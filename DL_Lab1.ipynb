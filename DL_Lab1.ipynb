{
  "nbformat": 4,
  "nbformat_minor": 0,
  "metadata": {
    "colab": {
      "provenance": [],
      "authorship_tag": "ABX9TyND0BRNbElcKebd3KRXVEuE",
      "include_colab_link": true
    },
    "kernelspec": {
      "name": "python3",
      "display_name": "Python 3"
    },
    "language_info": {
      "name": "python"
    }
  },
  "cells": [
    {
      "cell_type": "markdown",
      "metadata": {
        "id": "view-in-github",
        "colab_type": "text"
      },
      "source": [
        "<a href=\"https://colab.research.google.com/github/Mythili134/P.-Mythili/blob/main/DL_Lab1.ipynb\" target=\"_parent\"><img src=\"https://colab.research.google.com/assets/colab-badge.svg\" alt=\"Open In Colab\"/></a>"
      ]
    },
    {
      "cell_type": "code",
      "execution_count": 1,
      "metadata": {
        "id": "YAnvUvXoFH2_",
        "colab": {
          "base_uri": "https://localhost:8080/"
        },
        "outputId": "0717fa1e-1a03-48a6-d09b-9fde46c035f5"
      },
      "outputs": [
        {
          "output_type": "stream",
          "name": "stdout",
          "text": [
            "[10, 10, 10]\n",
            "[10, 10, 10]\n",
            "[12, 10, 10]\n"
          ]
        }
      ],
      "source": [
        "X = [[1,2,3],\n",
        "    [4 ,5,6],\n",
        "    [9 ,8,9]]\n",
        "\n",
        "Y = [[9,8,7],\n",
        "    [6,5,4],\n",
        "    [3,2,1]]\n",
        "\n",
        "result = [[X[i][j] + Y[i][j]  for j in range\n",
        "(len(X[0]))] for i in range(len(X))]\n",
        "\n",
        "for r in result:\n",
        "    print(r)"
      ]
    },
    {
      "cell_type": "code",
      "source": [
        "import numpy as np\n",
        "A = [[1, 3, 3],\n",
        "    [4, 3, 6],\n",
        "    [7, 4, 5]]\n",
        "\n",
        "B = [[5, 8, 1, 2],\n",
        "    [6, 7, 0, 0],\n",
        "    [1, 5, 9, 1]]\n",
        "\n",
        "result= [[0,0,0,0],\n",
        "        [0,0,0,0],\n",
        "        [2,3,0,0]]\n",
        "\n",
        "result = np.dot(A,B)\n",
        "\n",
        "for r in result:\n",
        "    print(r)"
      ],
      "metadata": {
        "colab": {
          "base_uri": "https://localhost:8080/"
        },
        "id": "n0M_RV2B_xt5",
        "outputId": "43cf285c-f06c-4d62-fc35-c17c62499e56"
      },
      "execution_count": 2,
      "outputs": [
        {
          "output_type": "stream",
          "name": "stdout",
          "text": [
            "[26 44 28  5]\n",
            "[44 83 58 14]\n",
            "[ 64 109  52  19]\n"
          ]
        }
      ]
    },
    {
      "cell_type": "code",
      "source": [
        "X = [[2,2,3],\n",
        "    [3 ,5,6],\n",
        "    [9,8,9],\n",
        "     [4,5,6]]\n",
        "\n",
        "Y = [[9,8,7],\n",
        "    [6,5,4],\n",
        "    [3,2,1],\n",
        "     [4,5,6]]\n",
        "\n",
        "\n",
        "result = [[0,0,0],\n",
        "         [0,0,0],\n",
        "         [9,0,0],\n",
        "          [0,0,0]]\n",
        "for i in range(len(X)):\n",
        "   for j in range(len(X[0])):\n",
        "       result[i][j] = X[i][j] * Y[i][j]\n",
        "\n",
        "for r in result:\n",
        "     print(r)"
      ],
      "metadata": {
        "colab": {
          "base_uri": "https://localhost:8080/"
        },
        "id": "7E5LnNzp_6Sj",
        "outputId": "f14f1e41-29fd-4986-9628-d82e12e99bc6"
      },
      "execution_count": 3,
      "outputs": [
        {
          "output_type": "stream",
          "name": "stdout",
          "text": [
            "[18, 16, 21]\n",
            "[18, 25, 24]\n",
            "[27, 16, 9]\n",
            "[16, 25, 36]\n"
          ]
        }
      ]
    },
    {
      "cell_type": "code",
      "source": [
        "N, M = 4, 4\n",
        "def printIntersection(A, B):\n",
        "    for i in range(M):\n",
        "        for j in range(N):\n",
        "            if (A[i][j] == B[i][j]) :\n",
        "                print(A[i][j], end = \" \")\n",
        "            else :\n",
        "                print(\"* \", end = \" \")\n",
        "\n",
        "        print()\n",
        "if __name__ == \"__main__\" :\n",
        "\n",
        "    A = [ [2, 4, 6, 8 ],\n",
        "        [ 1, 3, 5, 7 ],\n",
        "        [ 8, 6, 4, 2 ],\n",
        "        [ 7, 5, 3, 1 ] ]\n",
        "\n",
        "    B = [ [ 2, 3, 6, 8 ],\n",
        "        [ 1, 3, 1, 2 ],\n",
        "        [ 8, 1, 4, 2 ],\n",
        "        [ 7, 5, 3, 9 ] ]\n",
        "\n",
        "    printIntersection(A, B)"
      ],
      "metadata": {
        "colab": {
          "base_uri": "https://localhost:8080/"
        },
        "id": "MCkKwaM___qU",
        "outputId": "ee18ef36-3b9d-4d41-c3e7-112f0da44c21"
      },
      "execution_count": 4,
      "outputs": [
        {
          "output_type": "stream",
          "name": "stdout",
          "text": [
            "2 *  6 8 \n",
            "1 3 *  *  \n",
            "8 *  4 2 \n",
            "7 5 3 *  \n"
          ]
        }
      ]
    },
    {
      "cell_type": "code",
      "source": [
        "import numpy as np\n",
        "matrix_a = np.matrix([[4, 2, 4], [3, 4, 5]])\n",
        "matrix_b = np.matrix([[5, 6, 7], [7, 8, 9]])\n",
        "matrix_c = np.matrix([[5,7,9],[9,5,4]])\n",
        "result = matrix_a * matrix_b.transpose()\n",
        "\n",
        "print(\"Result of Matrix Multiplication:\")\n",
        "print(result)\n",
        ""
      ],
      "metadata": {
        "colab": {
          "base_uri": "https://localhost:8080/"
        },
        "id": "XJdh-Ux9AFPW",
        "outputId": "497c7bce-5b3a-486e-d5ee-32e6ec8d6ffe"
      },
      "execution_count": 5,
      "outputs": [
        {
          "output_type": "stream",
          "name": "stdout",
          "text": [
            "Result of Matrix Multiplication:\n",
            "[[60 80]\n",
            " [74 98]]\n"
          ]
        }
      ]
    },
    {
      "cell_type": "code",
      "source": [
        "N, M = 3, 3\n",
        "def printIntersection(A, B):\n",
        "    for i in range(M):\n",
        "        for j in range(N):\n",
        "            if (A[i][j] == B[i][j]) :\n",
        "                print(A[i][j], end = \" \")\n",
        "            else :\n",
        "                print(\"# \", end = \" \")\n",
        "\n",
        "        print()\n",
        "if __name__ == \"__main__\" :\n",
        "\n",
        "    A = [ [2, 4, 6 ],\n",
        "        [ 1, 3, 5  ],\n",
        "        [ 8, 6, 4  ]]\n",
        "\n",
        "    B = [ [ 2, 3,4 ],\n",
        "        [ 1, 3, 1 ],\n",
        "        [ 8, 1, 4 ]]\n",
        "\n",
        "    printIntersection(A, B)"
      ],
      "metadata": {
        "colab": {
          "base_uri": "https://localhost:8080/"
        },
        "id": "iOLCTMF-AL-M",
        "outputId": "d64f39ad-350b-402d-9200-0c2067a58113"
      },
      "execution_count": 6,
      "outputs": [
        {
          "output_type": "stream",
          "name": "stdout",
          "text": [
            "2 #  #  \n",
            "1 3 #  \n",
            "8 #  4 \n"
          ]
        }
      ]
    }
  ]
}